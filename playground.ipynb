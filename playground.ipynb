{
 "cells": [
  {
   "attachments": {},
   "cell_type": "markdown",
   "metadata": {},
   "source": [
    "# RALD-LARD MACHINES"
   ]
  },
  {
   "attachments": {},
   "cell_type": "markdown",
   "metadata": {},
   "source": [
    "## Imports"
   ]
  },
  {
   "cell_type": "code",
   "execution_count": null,
   "metadata": {},
   "outputs": [],
   "source": [
    "%load_ext autoreload\n",
    "%autoreload 2"
   ]
  },
  {
   "cell_type": "code",
   "execution_count": null,
   "metadata": {},
   "outputs": [],
   "source": [
    "from raldlard.machine import rald_lard\n",
    "from raldlard.stacked_machine import stacked_rarld_lard\n",
    "from raldlard.tools import integer_to_rald_lard_input,outputs_to_integers"
   ]
  },
  {
   "attachments": {},
   "cell_type": "markdown",
   "metadata": {},
   "source": [
    "## Parameters"
   ]
  },
  {
   "cell_type": "code",
   "execution_count": null,
   "metadata": {},
   "outputs": [],
   "source": [
    "VERBOSE = True"
   ]
  },
  {
   "attachments": {},
   "cell_type": "markdown",
   "metadata": {},
   "source": [
    "## Utils"
   ]
  },
  {
   "cell_type": "code",
   "execution_count": null,
   "metadata": {},
   "outputs": [],
   "source": [
    "def run_simple_machine(instructions,input_,verbose):\n",
    "    model = rald_lard(instructions = instructions,max_steps=1000)\n",
    "\n",
    "    if verbose:\n",
    "        print(\"Model instructions\")\n",
    "        print(model)\n",
    "        print(\"-------------------------------------------------\")\n",
    "\n",
    "    output = model.run(input_,verbose=verbose)\n",
    "\n",
    "    if verbose:\n",
    "        print(\"-------------------------------------------------\\n\")\n",
    "        print(f\"Input: {input_} <-----> {outputs_to_integers(input_)}\")\n",
    "\n",
    "        print(f\"Output: {output} <-----> {outputs_to_integers(output)}\")"
   ]
  },
  {
   "attachments": {},
   "cell_type": "markdown",
   "metadata": {},
   "source": [
    "## RALD-LARD machines and mono RALD-LARD machines"
   ]
  },
  {
   "attachments": {},
   "cell_type": "markdown",
   "metadata": {},
   "source": [
    "A line of instruction specify an action that the machine should perform. \n",
    "\n",
    "The machine either *Delete* or *Add* the repeated character on/to the *Left* or the *Right* of a given *Input*. <br>\n",
    "An instruction is the represented by the list [Delete or Add,Left or Right, Input] <br>\n",
    "To keep things simple, we will use the following notations : Delete = \"D\", Add = \"A\", Left = \"L\",Right = \"R\". The input will be represented by its id. The instructions are performed in a loop. The machine halts when a Delete action fails. For instance, deleting on the Right on the input \"CCCCO\" will stop a machine."
   ]
  },
  {
   "cell_type": "code",
   "execution_count": null,
   "metadata": {},
   "outputs": [],
   "source": [
    "run_simple_machine(instructions=[['D','L',0],\n",
    "                               ['D','L',0],\n",
    "                               ['A','L',0]],\n",
    "                input_ = [\"OCCC\"],\n",
    "                verbose = VERBOSE)"
   ]
  },
  {
   "attachments": {},
   "cell_type": "markdown",
   "metadata": {},
   "source": [
    "### Compute n+1"
   ]
  },
  {
   "cell_type": "code",
   "execution_count": null,
   "metadata": {},
   "outputs": [],
   "source": [
    "run_simple_machine(instructions=[['A','R',0],\n",
    "                               ['D','L',0]],\n",
    "                input_ = [\"OCCC\"],\n",
    "                verbose = VERBOSE)"
   ]
  },
  {
   "attachments": {},
   "cell_type": "markdown",
   "metadata": {},
   "source": [
    "### Compute n-1\n",
    "\n",
    "Only works with integers. If n=0 then it returns 0."
   ]
  },
  {
   "cell_type": "code",
   "execution_count": null,
   "metadata": {},
   "outputs": [],
   "source": [
    "run_simple_machine(instructions=[['D','R',0],\n",
    "                               ['D','L',0]],\n",
    "                input_ = [\"OCCC\"],\n",
    "                verbose = VERBOSE)"
   ]
  },
  {
   "attachments": {},
   "cell_type": "markdown",
   "metadata": {},
   "source": [
    "### compute n//2"
   ]
  },
  {
   "cell_type": "code",
   "execution_count": null,
   "metadata": {},
   "outputs": [],
   "source": [
    "run_simple_machine(instructions=[['D','R',0],\n",
    "                               ['D','R',0],\n",
    "                               ['A','L',0]],\n",
    "                input_ = [\"OCCCCC\"],\n",
    "                verbose = VERBOSE)"
   ]
  },
  {
   "attachments": {},
   "cell_type": "markdown",
   "metadata": {},
   "source": [
    "### Compute 2n"
   ]
  },
  {
   "cell_type": "code",
   "execution_count": null,
   "metadata": {},
   "outputs": [],
   "source": [
    "run_simple_machine(instructions=[['D','R',0],\n",
    "                               ['A','L',0],\n",
    "                               ['A','L',0]],\n",
    "                input_ = [\"OCCCCC\"],\n",
    "                verbose = VERBOSE)"
   ]
  },
  {
   "attachments": {},
   "cell_type": "markdown",
   "metadata": {},
   "source": [
    "### Check parity of a number\n",
    "For an input ${OCC..C}_n$ the output it $CO$ if n is odd and O if n is even"
   ]
  },
  {
   "cell_type": "code",
   "execution_count": null,
   "metadata": {},
   "outputs": [],
   "source": [
    "run_simple_machine(instructions=[['D','R',0],\n",
    "                               ['A','L',0],\n",
    "                               ['D','R',0],\n",
    "                               ['D','L',0]],\n",
    "                input_ = [\"OCCCC\"],\n",
    "                verbose = VERBOSE)"
   ]
  },
  {
   "cell_type": "code",
   "execution_count": null,
   "metadata": {},
   "outputs": [],
   "source": [
    "run_simple_machine(instructions=[['D','R',0],\n",
    "                               ['A','L',0],\n",
    "                               ['D','R',0],\n",
    "                               ['D','L',0]],\n",
    "                input_ = [\"OCCCCC\"],\n",
    "                verbose = VERBOSE)"
   ]
  },
  {
   "attachments": {},
   "cell_type": "markdown",
   "metadata": {},
   "source": [
    "### Compute n+m"
   ]
  },
  {
   "cell_type": "code",
   "execution_count": null,
   "metadata": {},
   "outputs": [],
   "source": [
    "run_simple_machine(instructions=[['D','R',1],\n",
    "                               ['A','R',0]],\n",
    "                input_ = [\"OCCCCC\",\"OCCCC\"],\n",
    "                verbose = VERBOSE)"
   ]
  },
  {
   "attachments": {},
   "cell_type": "markdown",
   "metadata": {},
   "source": [
    "### Compute n-m\n",
    "if n<m then the output is 0"
   ]
  },
  {
   "cell_type": "code",
   "execution_count": null,
   "metadata": {},
   "outputs": [],
   "source": [
    "run_simple_machine(instructions=[['D','R',1],\n",
    "                               ['D','R',0]],\n",
    "                input_ = [\"OCCCCC\",\"OCCCC\"],\n",
    "                verbose = VERBOSE)"
   ]
  },
  {
   "cell_type": "code",
   "execution_count": null,
   "metadata": {},
   "outputs": [],
   "source": [
    "run_simple_machine(instructions=[['D','R',1],\n",
    "                               ['D','R',0]],\n",
    "                input_ = [\"OCC\",\"OCCCC\"],\n",
    "                verbose = VERBOSE)"
   ]
  },
  {
   "attachments": {},
   "cell_type": "markdown",
   "metadata": {},
   "source": [
    "### Compare n and m\n",
    "if both outputs are equals to 0 then the 2 numbers are the same\n",
    "if one of the output is equal to 0 and the second one if something else then, the input whose output is 0 is the smallest."
   ]
  },
  {
   "cell_type": "code",
   "execution_count": null,
   "metadata": {},
   "outputs": [],
   "source": [
    "run_simple_machine(instructions=[['D','R',0],\n",
    "                               ['A','L',0],\n",
    "                               ['D','R',1],\n",
    "                               ['D','L',0]],\n",
    "                input_ = [\"OCCCCC\",\"OCCCCC\"],\n",
    "                verbose = VERBOSE)"
   ]
  },
  {
   "cell_type": "code",
   "execution_count": null,
   "metadata": {},
   "outputs": [],
   "source": [
    "run_simple_machine(instructions=[['D','R',0],\n",
    "                               ['A','L',0],\n",
    "                               ['D','R',1],\n",
    "                               ['D','L',0]],\n",
    "                input_ = [\"OCCCCC\",\"OCCCCCC\"],\n",
    "                verbose = VERBOSE)"
   ]
  },
  {
   "cell_type": "code",
   "execution_count": null,
   "metadata": {},
   "outputs": [],
   "source": [
    "run_simple_machine(instructions=[['D','R',0],\n",
    "                               ['A','L',0],\n",
    "                               ['D','R',1],\n",
    "                               ['D','L',0]],\n",
    "                input_ = [\"OCCCC\",\"OCCC\"],\n",
    "                verbose = VERBOSE)"
   ]
  },
  {
   "attachments": {},
   "cell_type": "markdown",
   "metadata": {},
   "source": [
    "## Stacked RALD-LARD models\n",
    "\n",
    "Here is an example of a stacked RALD-LARD model computing $2^n$. "
   ]
  },
  {
   "cell_type": "code",
   "execution_count": null,
   "metadata": {},
   "outputs": [],
   "source": [
    "model_0 = rald_lard(instructions = [['A','R',0],['D','L',0]]) ## compute n+1\n",
    "\n",
    "model_1 = rald_lard(instructions = [['D','R',0],['D','L',0]]) ## compute n-1\n",
    "model_2 = rald_lard(instructions = [['D','R',1],['A','L',1],['A','L',1]])  ## compute 2n right\n",
    "\n",
    "model_3 = rald_lard(instructions = [['D','R',0],['D','L',0]]) ## compute n-1\n",
    "model_4 = rald_lard(instructions = [['D','L',1],['A','R',1],['A','R',1]])  ## compute 2n left\n"
   ]
  },
  {
   "cell_type": "code",
   "execution_count": null,
   "metadata": {},
   "outputs": [],
   "source": [
    "stacked_model = stacked_rarld_lard()\n",
    "\n",
    "stacked_model.add_model(model_0,0)\n",
    "stacked_model.add_model(model_1,1)\n",
    "stacked_model.add_model(model_2,2)\n",
    "stacked_model.add_model(model_3,3)\n",
    "stacked_model.add_model(model_4,4)\n",
    "\n",
    "stacked_model.add_transition(0,1,[['D','R',0],['A','R',0]])\n",
    "stacked_model.add_transition(1,2,[['D','R',0],['A','R',0]])\n",
    "stacked_model.add_transition(2,3,[['D','R',0],['A','R',0]])\n",
    "stacked_model.add_transition(3,4,[['D','R',0],['A','R',0]])\n",
    "stacked_model.add_transition(4,1,[['D','R',0],['A','R',0]])\n",
    "\n",
    "stacked_model.set_entry_point(0)"
   ]
  },
  {
   "cell_type": "code",
   "execution_count": null,
   "metadata": {},
   "outputs": [],
   "source": [
    "if VERBOSE:\n",
    "    print(stacked_model)"
   ]
  },
  {
   "cell_type": "code",
   "execution_count": null,
   "metadata": {},
   "outputs": [],
   "source": [
    "outputs = stacked_model.run(['OCCCCC','OC'],verbose=VERBOSE)"
   ]
  },
  {
   "cell_type": "code",
   "execution_count": null,
   "metadata": {},
   "outputs": [],
   "source": [
    "if VERBOSE:\n",
    "    print(outputs_to_integers(outputs))"
   ]
  },
  {
   "cell_type": "code",
   "execution_count": null,
   "metadata": {},
   "outputs": [],
   "source": [
    "for n in range(0,15+1):\n",
    "    output_ = stacked_model.run([integer_to_rald_lard_input(n),'OC'],verbose=False)\n",
    "    assert outputs_to_integers(output_)[1]==2**n"
   ]
  },
  {
   "attachments": {},
   "cell_type": "markdown",
   "metadata": {},
   "source": [
    "# End of notebook"
   ]
  }
 ],
 "metadata": {
  "kernelspec": {
   "display_name": "base-kernel",
   "language": "python",
   "name": "base-kernel"
  },
  "language_info": {
   "codemirror_mode": {
    "name": "ipython",
    "version": 3
   },
   "file_extension": ".py",
   "mimetype": "text/x-python",
   "name": "python",
   "nbconvert_exporter": "python",
   "pygments_lexer": "ipython3",
   "version": "3.8.10"
  },
  "orig_nbformat": 4
 },
 "nbformat": 4,
 "nbformat_minor": 2
}
